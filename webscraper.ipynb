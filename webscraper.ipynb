{
 "cells": [
  {
   "cell_type": "code",
   "execution_count": 2,
   "metadata": {},
   "outputs": [],
   "source": [
    "import requests\n",
    "import bs4"
   ]
  },
  {
   "cell_type": "code",
   "execution_count": 15,
   "metadata": {},
   "outputs": [],
   "source": [
    "req = requests.get('https://www.flipkart.com/samsung-galaxy-s23-ultra-5g-green-256-gb/p/itm77dc35f7779a4?pid=MOBGMFFX32WUYXUJ&lid=LSTMOBGMFFX32WUYXUJEUVNIW&marketplace=FLIPKART&fm=neo%2Fmerchandising&iid=M_cc6b5447-1f21-44a1-8756-2da3757f0de1_36_42OTAAY8KIGZ_MC.MOBGMFFX32WUYXUJ&ppt=clp&ppn=mobile-phones-store&ssid=5vva9d75hs0000001685261523977&otracker=clp_pmu_v2_Samsung%2Bsmartphones_1_36.productCard.PMU_V2_SAMSUNG%2BGalaxy%2BS23%2BUltra%2B5G%2B%2528Green%252C%2B256%2BGB%2529_mobile-phones-store_MOBGMFFX32WUYXUJ_neo%2Fmerchandising_0&otracker1=clp_pmu_v2_PINNED_neo%2Fmerchandising_Samsung%2Bsmartphones_LIST_productCard_cc_1_NA_view-all&cid=MOBGMFFX32WUYXUJ');"
   ]
  },
  {
   "cell_type": "code",
   "execution_count": 31,
   "metadata": {},
   "outputs": [],
   "source": [
    "soup = bs4.BeautifulSoup(req.text)"
   ]
  },
  {
   "cell_type": "code",
   "execution_count": 39,
   "metadata": {},
   "outputs": [],
   "source": [
    "phone_price = soup.find('div' , {\"class\" : '_30jeq3 _16Jk6d' }).get_text()"
   ]
  },
  {
   "cell_type": "code",
   "execution_count": 40,
   "metadata": {},
   "outputs": [
    {
     "name": "stdout",
     "output_type": "stream",
     "text": [
      "₹1,24,999\n"
     ]
    }
   ],
   "source": [
    "print(phone_price)"
   ]
  },
  {
   "attachments": {},
   "cell_type": "markdown",
   "metadata": {},
   "source": [
    "# Phone Reviews "
   ]
  },
  {
   "cell_type": "code",
   "execution_count": 41,
   "metadata": {},
   "outputs": [],
   "source": [
    "phone_reviews = soup.findAll('div' , {'class' , 't-ZTKy'}) "
   ]
  },
  {
   "cell_type": "code",
   "execution_count": 47,
   "metadata": {},
   "outputs": [
    {
     "name": "stdout",
     "output_type": "stream",
     "text": [
      "Excellent product and awesome features , zoom is beyond comparisonExcellent display and good battery life. S pen is a master in it's own league.While sticking screen guards Kindly make sure glue doesn't leak to the speaker or S pen  modules as it may create an issue Inorder to avail the offerPlease go toAccountCouponsAll rewards and scroll downYou will get the offer mentioned and you can order the same if you are eligibleHappy purchasingREAD MORE\n",
      "\n",
      "\n",
      "I ordered the product during pre-book period, exchanging my old OP6.The product is great, the seller delivered in time. The exchange process with Flipkart was also great. After the return period I got my Galaxy buds 2 and Watch 4 classic as well.The camera quality is excellent, the battery life is great as well. I am getting around 10 hours SOT, and 24 hours total time in a full recharge.OneUI is one of the best Android experience you can get.Overall a great deal.READ MORE\n",
      "\n",
      "\n",
      "Product is really good but flipkart service is not   I am not able to get my offer which were offered with the phone kindly guide the customers in a proper way to get the buds and watch at the offer price after buying the phone.READ MORE\n",
      "\n",
      "\n",
      "Phone is just Awsome camera quality superb S Pen is addiction to ultra users And Display is quality was best...battery could be better compare to iphoneOverall Device is super fast...price is high but with offers its worth🤩🤩READ MORE\n",
      "\n",
      "\n",
      "Wonderful , looks wise and specially feel like we have Mercedes car. Feels and touch never be explain it's feels. I hope you all understand what I mean ? in short wow 👌 wonderfulREAD MORE\n",
      "\n",
      "\n",
      "This Smartphone is just beast 👌 I am switching to Samsung phone after long time after note 5.Design is really awesome and it's very comfortable to hold . A bit heavier side it is expected as title says beast.Display best in the market first point which interest me in this phone. Second point which I liked about of this phone is the excellent Battery life even having so huge and beautiful Display it is giving 8 -9 hrs screen on time which is again amazing. Beautiful and fluent UISo far ...READ MORE\n",
      "\n",
      "\n",
      "Top notch specs.Need to buy charger seperately for full support of 45W.It charges within 60 minutes most of time and screen on time is 6-7 hours.The fort is nearly 10-15 kms away from my home and zoom and clearty after taking pics it's just awesome.Had to buy this one as it gives few more features than Apple. Portraits are good too. Overall great but little pricier as we compare to US prices.READ MORE\n",
      "\n",
      "\n",
      "The first time you look at it, it isn't  that impressive, but once you touch it, god what a feeling. The device is aesthetic and looks better with lot of light around. The phantom black is awesome.Coming to the cameras, they are better than any phone out there. When i say any phone that includes an iPhone too. The first time in my life, i don't  feel like adding any filter or do any edits to my pics. They are just perfect. Perfect details, perfect colours and best resolution. Though nightmo...READ MORE\n",
      "\n",
      "\n",
      "The best of the best. S23 Ultra is the best phone in the world right now.READ MORE\n",
      "\n",
      "\n",
      "Best Android phone available in market. Beautiful Display for multimedia and amazing sound system. Excellent processor for smooth daily operations and multi-tasking. No heating issues for regular usage. Not a gamer so cannot comment on gaming performance or heating issue. Amazing Battery life, can last almost 2 days for medium usage easily 1 day for even heavy usage. Finally the camera....it is going to give iphone tough competition. Awesome images and videos. Night photography is next level....READ MORE\n",
      "\n",
      "\n"
     ]
    }
   ],
   "source": [
    "for review in phone_reviews : \n",
    "    print(review.getText())\n",
    "    print('\\n')"
   ]
  },
  {
   "attachments": {},
   "cell_type": "markdown",
   "metadata": {},
   "source": [
    "# Bank Offers"
   ]
  },
  {
   "cell_type": "code",
   "execution_count": 48,
   "metadata": {},
   "outputs": [
    {
     "name": "stdout",
     "output_type": "stream",
     "text": [
      "Offer : \n",
      "Bank OfferGet 10% Cashback on Samsung Axis bank Credit CardT&C\n",
      "Offer : \n",
      "Bank Offer10% off on Bank of Baroda Credit Card EMI Transactions, up to ₹1,500 on orders of ₹8,000 and aboveT&C\n",
      "Offer : \n",
      "Bank Offer10% off on IDFC FIRST Bank Credit Card EMI Transactions, up to ₹1,000 on orders of ₹5,000 and aboveT&C\n",
      "Offer : \n",
      "Special PriceGet extra ₹7000 off (price inclusive of cashback/coupon)T&C\n"
     ]
    }
   ],
   "source": [
    "bank_offers = soup.findAll('span' , { 'class' : '_3j4Zjq row'}) ;\n",
    "for bank_offer in bank_offers :\n",
    "    print('Offer : ') \n",
    "    print(bank_offer.getText())"
   ]
  },
  {
   "attachments": {},
   "cell_type": "markdown",
   "metadata": {},
   "source": [
    "# Questions "
   ]
  },
  {
   "cell_type": "code",
   "execution_count": 49,
   "metadata": {},
   "outputs": [
    {
     "name": "stdout",
     "output_type": "stream",
     "text": [
      "Q:it is in display fingerprint\n",
      "Q:How much optical zoom is available\n",
      "Q:Is the 100x zoomed photography of moon an AI based interpolation? Or is it real?\n",
      "Q:Is smart watch and buds included?\n",
      "Q:Which is best susmangs22ultra and s23ultra\n",
      "Q:S pen included or not\n",
      "Q:With s23 ultra . Samsung buds and watch is free .\n",
      "Q:Charger how many waat\n",
      "Q:iPhone 14pro Max Orr samsung galaxy s22which is best?\n",
      "Q:Video quality kya hai\n"
     ]
    }
   ],
   "source": [
    "user_questions = soup.findAll('div' , {\"class\" : \"_1xR0kG _3cziW5\"}) ;\n",
    "for question in user_questions : \n",
    "    print(question.getText())"
   ]
  },
  {
   "cell_type": "code",
   "execution_count": null,
   "metadata": {},
   "outputs": [],
   "source": []
  }
 ],
 "metadata": {
  "kernelspec": {
   "display_name": "Python 3",
   "language": "python",
   "name": "python3"
  },
  "language_info": {
   "codemirror_mode": {
    "name": "ipython",
    "version": 3
   },
   "file_extension": ".py",
   "mimetype": "text/x-python",
   "name": "python",
   "nbconvert_exporter": "python",
   "pygments_lexer": "ipython3",
   "version": "3.11.3"
  },
  "orig_nbformat": 4
 },
 "nbformat": 4,
 "nbformat_minor": 2
}
